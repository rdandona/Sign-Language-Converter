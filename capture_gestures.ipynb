{
 "cells": [
  {
   "cell_type": "code",
   "execution_count": 1,
   "metadata": {},
   "outputs": [],
   "source": [
    "import cv2\n",
    "import numpy as np"
   ]
  },
  {
   "cell_type": "code",
   "execution_count": 10,
   "metadata": {},
   "outputs": [
    {
     "name": "stdout",
     "output_type": "stream",
     "text": [
      "Enter the gesture nameC\n"
     ]
    }
   ],
   "source": [
    "gesture=input('Enter the gesture name')\n",
    "i=1"
   ]
  },
  {
   "cell_type": "code",
   "execution_count": 11,
   "metadata": {},
   "outputs": [],
   "source": [
    "cam=cv2.VideoCapture(0)\n",
    "while i<=100:\n",
    "    ret,frame=cam.read()\n",
    "    \n",
    "    #drawing rectange on the frame\n",
    "    cv2.rectangle(frame,(14,165),(294,445),(0,255,0),2)\n",
    "    cv2.imshow('Test',frame)\n",
    "    \n",
    "    if cv2.waitKey(1)& 0xFF == 13:\n",
    "        #getting the dimensions of rectangle for cropping\n",
    "        x=14\n",
    "        w=280\n",
    "        y=165\n",
    "        h=280\n",
    "        \n",
    "        #cropping only for gesture\n",
    "        cropped=frame[y:y+h,x:x+w]\n",
    "        \n",
    "        #saving the image to relevent gesture folder\n",
    "        cv2.imwrite('./gestureDB/'+gesture+'/'+str(i)+'.jpg',cropped)\n",
    "        \n",
    "        \n",
    "        #flipping the image and saving it\n",
    "        flipped=cv2.flip(cropped,1)\n",
    "        cv2.imwrite('./gestureDB/'+gesture+'/'+str(100+i)+'.jpg',flipped)\n",
    "        \n",
    "        i+=1\n",
    "    \n",
    "cam.release()\n",
    "cv2.destroyAllWindows()     "
   ]
  },
  {
   "cell_type": "markdown",
   "metadata": {},
   "source": []
  },
  {
   "cell_type": "markdown",
   "metadata": {},
   "source": [
    "##### Trying skin detection on image"
   ]
  },
  {
   "cell_type": "code",
   "execution_count": 12,
   "metadata": {},
   "outputs": [
    {
     "data": {
      "text/plain": [
       "True"
      ]
     },
     "execution_count": 12,
     "metadata": {},
     "output_type": "execute_result"
    }
   ],
   "source": [
    "min_HSV = np.array([0,20,50], dtype = \"uint8\")\n",
    "max_HSV = np.array([20,150,255], dtype = \"uint8\")\n",
    "# Get pointer to video frames from primary device\n",
    "image = cv2.imread('./gestureDB/C/1.jpg')\n",
    "imageHSV = cv2.cvtColor(image, cv2.COLOR_BGR2HSV)\n",
    "skinRegionHSV = cv2.inRange(imageHSV, min_HSV, max_HSV)\n",
    "\n",
    "skinHSV = cv2.bitwise_and(image, image, mask = skinRegionHSV)\n",
    "\n",
    "cv2.imwrite(\"./hsv.png\", np.hstack([image, skinHSV]))"
   ]
  },
  {
   "cell_type": "code",
   "execution_count": null,
   "metadata": {},
   "outputs": [],
   "source": []
  }
 ],
 "metadata": {
  "kernelspec": {
   "display_name": "Python 3",
   "language": "python",
   "name": "python3"
  },
  "language_info": {
   "codemirror_mode": {
    "name": "ipython",
    "version": 3
   },
   "file_extension": ".py",
   "mimetype": "text/x-python",
   "name": "python",
   "nbconvert_exporter": "python",
   "pygments_lexer": "ipython3",
   "version": "3.6.2"
  }
 },
 "nbformat": 4,
 "nbformat_minor": 2
}
