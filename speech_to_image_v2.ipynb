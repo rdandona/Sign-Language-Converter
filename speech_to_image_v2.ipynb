{
 "cells": [
  {
   "cell_type": "code",
   "execution_count": 1,
   "metadata": {},
   "outputs": [],
   "source": [
    "import speech_recognition as sr\n",
    "import sys\n",
    "import glob\n",
    "import cv2\n",
    "import string"
   ]
  },
  {
   "cell_type": "code",
   "execution_count": 2,
   "metadata": {},
   "outputs": [
    {
     "name": "stdout",
     "output_type": "stream",
     "text": [
      "SAY SOMETHING\n",
      "TIME OVER\n",
      "TEXT:  hello hello\n"
     ]
    }
   ],
   "source": [
    "r=sr.Recognizer()\n",
    "with sr.Microphone(device_index=8) as source:\n",
    "    print(\"SAY SOMETHING\")\n",
    "    audio=r.listen(source,timeout=5,phrase_time_limit=5)\n",
    "    print(\"TIME OVER\")\n",
    "\n",
    "    try:\n",
    "        inputDialogue=r.recognize_google(audio)\n",
    "        print(\"TEXT: \",inputDialogue)\n",
    "    \n",
    "    except:\n",
    "        pass\n",
    "\n",
    "#splitting the sentence into a list of words\n",
    "wordsSpoken=inputDialogue.split()\n",
    "\n",
    "#to find the number of words spoken\n",
    "numberOfWordsSpoken=len(wordsSpoken)\n",
    "\n",
    "#conversion of uppercase letters to lower case\n",
    "for i in range(numberOfWordsSpoken):\n",
    "    wordsSpoken[i]=wordsSpoken[i].lower()\n",
    "    \n",
    "\n",
    "\n",
    "#iterating through the database \n",
    "#if a match is found, the relevent image is displayed\n",
    "for i in range(numberOfWordsSpoken):\n",
    "    for words in glob.glob('./images/*'):\n",
    "        actualWord=words.split(\"/\")[2].split(\".\")[0]\n",
    "        if actualWord != wordsSpoken[i]:\n",
    "            continue\n",
    "        else:\n",
    "            image=cv2.imread(words)\n",
    "            #resizing\n",
    "            cv2.namedWindow(actualWord,cv2.WINDOW_NORMAL)\n",
    "            cv2.resizeWindow(actualWord,500,500)\n",
    "            cv2.imshow(actualWord,image)\n",
    "            cv2.waitKey()            \n",
    "            break\n",
    "                   \n",
    "cv2.destroyAllWindows()"
   ]
  },
  {
   "cell_type": "code",
   "execution_count": null,
   "metadata": {},
   "outputs": [],
   "source": [
    "img=cv2.imread('./images/fast.png')\n",
    "cv2.namedWindow('Fast',cv2.WINDOW_NORMAL)\n",
    "cv2.resizeWindow('Fast',600,600)\n",
    "cv2.moveWindow('Fast', 600,200) \n",
    "cv2.imshow('Fast',img)\n",
    "cv2.waitKey()\n",
    "cv2.destroyAllWindows()"
   ]
  }
 ],
 "metadata": {
  "kernelspec": {
   "display_name": "Python 3",
   "language": "python",
   "name": "python3"
  },
  "language_info": {
   "codemirror_mode": {
    "name": "ipython",
    "version": 3
   },
   "file_extension": ".py",
   "mimetype": "text/x-python",
   "name": "python",
   "nbconvert_exporter": "python",
   "pygments_lexer": "ipython3",
   "version": "3.6.2"
  }
 },
 "nbformat": 4,
 "nbformat_minor": 2
}
